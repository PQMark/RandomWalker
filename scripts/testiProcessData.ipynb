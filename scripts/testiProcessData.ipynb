{
 "cells": [
  {
   "cell_type": "code",
   "execution_count": null,
   "metadata": {},
   "outputs": [
    {
     "name": "stdout",
     "output_type": "stream",
     "text": [
      "Original Data : \n",
      " [[12, nan, 34], [10, 32, nan], [nan, 11, 20]]\n",
      "Imputed Data : \n",
      " [[12.  21.5 34. ]\n",
      " [10.  32.  27. ]\n",
      " [11.  11.  20. ]]\n"
     ]
    }
   ],
   "source": [
    "import numpy as np\n",
    " \n",
    "# Importing the SimpleImputer class\n",
    "from sklearn.impute import SimpleImputer\n",
    " \n",
    "# Imputer object using the mean strategy and \n",
    "# missing_values type for imputation\n",
    "imputer = SimpleImputer(missing_values = np.nan, \n",
    "                        strategy ='mean')\n",
    " \n",
    "data = [[12, np.nan, 34], [10, 32, np.nan], \n",
    "        [np.nan, 11, 20]]\n",
    "\n",
    "\n",
    " \n",
    "print(\"Original Data : \\n\", data)\n",
    "# Fitting the data to the imputer object\n",
    "imputer = imputer.fit(data)\n",
    " \n",
    "# Imputing the data     \n",
    "data = imputer.transform(data)\n",
    " \n",
    "print(\"Imputed Data : \\n\", data)"
   ]
  }
 ],
 "metadata": {
  "kernelspec": {
   "display_name": "base",
   "language": "python",
   "name": "python3"
  },
  "language_info": {
   "codemirror_mode": {
    "name": "ipython",
    "version": 3
   },
   "file_extension": ".py",
   "mimetype": "text/x-python",
   "name": "python",
   "nbconvert_exporter": "python",
   "pygments_lexer": "ipython3",
   "version": "3.12.7"
  }
 },
 "nbformat": 4,
 "nbformat_minor": 2
}
